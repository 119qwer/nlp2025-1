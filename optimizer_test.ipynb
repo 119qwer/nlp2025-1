{
 "cells": [
  {
   "cell_type": "code",
   "execution_count": 1,
   "id": "471bf131",
   "metadata": {},
   "outputs": [],
   "source": [
    "import torch\n",
    "import numpy as np\n",
    "from optimizer import AdamW"
   ]
  },
  {
   "cell_type": "code",
   "execution_count": 2,
   "id": "0d3ede39",
   "metadata": {},
   "outputs": [],
   "source": [
    "SEED = 0"
   ]
  },
  {
   "cell_type": "code",
   "execution_count": 3,
   "id": "ab173a49",
   "metadata": {
    "lines_to_next_cell": 1
   },
   "outputs": [],
   "source": [
    "def test_optimizer(opt_class) -> torch.Tensor:\n",
    "    rng = np.random.default_rng(SEED)\n",
    "    torch.manual_seed(SEED)\n",
    "    model = torch.nn.Linear(3, 2, bias=False)\n",
    "    opt = opt_class(\n",
    "        model.parameters(),\n",
    "        lr=1e-3,\n",
    "        weight_decay=1e-4,\n",
    "        correct_bias=True,\n",
    "    )\n",
    "    for i in range(1000):\n",
    "        opt.zero_grad()\n",
    "        x = torch.FloatTensor(rng.uniform(size=[model.in_features]))\n",
    "        y_hat = model(x)\n",
    "        y = torch.Tensor([x[0] + x[1], -x[2]])\n",
    "        loss = ((y - y_hat) ** 2).sum()\n",
    "        loss.backward()\n",
    "        opt.step()\n",
    "    return model.weight.detach()"
   ]
  },
  {
   "cell_type": "code",
   "execution_count": 4,
   "id": "800870a6",
   "metadata": {},
   "outputs": [
    {
     "name": "stdout",
     "output_type": "stream",
     "text": [
      "tensor([[ 0.5548,  0.8667,  0.0729],\n",
      "        [-0.4472, -0.2951, -0.2717]])\n",
      "tensor([[ 0.5548,  0.8667,  0.0729],\n",
      "        [-0.4472, -0.2951, -0.2717]])\n",
      "Optimizer test passed!\n"
     ]
    }
   ],
   "source": [
    "if __name__ == '__main__':\n",
    "    ref = torch.tensor(np.load(\"optimizer_test.npy\")) #이 파일이 optimizer의 정답 가중치임\n",
    "    actual = test_optimizer(AdamW)\n",
    "    print(ref)\n",
    "    print(actual)\n",
    "    assert torch.allclose(ref, actual, atol=1e-6, rtol=1e-4)\n",
    "    print(\"Optimizer test passed!\")"
   ]
  },
  {
   "cell_type": "code",
   "execution_count": null,
   "id": "6b272873-1875-4cfb-975c-04484093ed56",
   "metadata": {},
   "outputs": [],
   "source": []
  }
 ],
 "metadata": {
  "jupytext": {
   "cell_metadata_filter": "-all",
   "main_language": "python",
   "notebook_metadata_filter": "-all"
  },
  "kernelspec": {
   "display_name": "Python (nlp_final)",
   "language": "python",
   "name": "nlp_final"
  },
  "language_info": {
   "codemirror_mode": {
    "name": "ipython",
    "version": 3
   },
   "file_extension": ".py",
   "mimetype": "text/x-python",
   "name": "python",
   "nbconvert_exporter": "python",
   "pygments_lexer": "ipython3",
   "version": "3.8.20"
  }
 },
 "nbformat": 4,
 "nbformat_minor": 5
}

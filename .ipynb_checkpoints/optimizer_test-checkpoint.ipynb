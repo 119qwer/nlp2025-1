{
 "cells": [
  {
   "cell_type": "code",
   "execution_count": null,
   "id": "471bf131",
   "metadata": {},
   "outputs": [],
   "source": [
    "import torch\n",
    "import numpy as np\n",
    "from optimizer import AdamW"
   ]
  },
  {
   "cell_type": "code",
   "execution_count": null,
   "id": "0d3ede39",
   "metadata": {},
   "outputs": [],
   "source": [
    "SEED = 0"
   ]
  },
  {
   "cell_type": "code",
   "execution_count": null,
   "id": "ab173a49",
   "metadata": {
    "lines_to_next_cell": 1
   },
   "outputs": [],
   "source": [
    "def test_optimizer(opt_class) -> torch.Tensor:\n",
    "    rng = np.random.default_rng(SEED)\n",
    "    torch.manual_seed(SEED)\n",
    "    model = torch.nn.Linear(3, 2, bias=False)\n",
    "    opt = opt_class(\n",
    "        model.parameters(),\n",
    "        lr=1e-3,\n",
    "        weight_decay=1e-4,\n",
    "        correct_bias=True,\n",
    "    )\n",
    "    for i in range(1000):\n",
    "        opt.zero_grad()\n",
    "        x = torch.FloatTensor(rng.uniform(size=[model.in_features]))\n",
    "        y_hat = model(x)\n",
    "        y = torch.Tensor([x[0] + x[1], -x[2]])\n",
    "        loss = ((y - y_hat) ** 2).sum()\n",
    "        loss.backward()\n",
    "        opt.step()\n",
    "    return model.weight.detach()"
   ]
  },
  {
   "cell_type": "code",
   "execution_count": null,
   "id": "800870a6",
   "metadata": {},
   "outputs": [],
   "source": [
    "if __name__ == '__main__':\n",
    "    ref = torch.tensor(np.load(\"optimizer_test.npy\")) #이 파일이 optimizer의 정답 가중치임\n",
    "    actual = test_optimizer(AdamW)\n",
    "    print(ref)\n",
    "    print(actual)\n",
    "    assert torch.allclose(ref, actual, atol=1e-6, rtol=1e-4)\n",
    "    print(\"Optimizer test passed!\")"
   ]
  }
 ],
 "metadata": {
  "jupytext": {
   "cell_metadata_filter": "-all",
   "main_language": "python",
   "notebook_metadata_filter": "-all"
  }
 },
 "nbformat": 4,
 "nbformat_minor": 5
}

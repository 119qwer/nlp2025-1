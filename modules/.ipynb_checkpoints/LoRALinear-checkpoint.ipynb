{
 "cells": [
  {
   "cell_type": "code",
   "execution_count": 3,
   "id": "77128632-7000-4304-ab08-ce6ca043eb6c",
   "metadata": {},
   "outputs": [],
   "source": [
    "import torch.nn.functional as F\n",
    "import torch.nn\n",
    "\n",
    "class LoRALinear(nn.Module):\n",
    "    def __init__(self, in_features, out_features, r=4, lora_alpha=16, lora_dropout=0.0, bias=True):\n",
    "        super().__init__()\n",
    "        self.r = r\n",
    "        self.scaling = lora_alpha / r\n",
    "\n",
    "        # 기존 weight는 freeze (동결)\n",
    "        self.weight = nn.Parameter(torch.empty(out_features, in_features))\n",
    "        nn.init.kaiming_uniform_(self.weight, a=math.sqrt(5))\n",
    "        self.weight.requires_grad = False\n",
    "\n",
    "        # LoRA 파라미터\n",
    "        self.lora_A = nn.Parameter(torch.zeros(r, in_features))\n",
    "        self.lora_B = nn.Parameter(torch.zeros(out_features, r))\n",
    "        nn.init.kaiming_uniform_(self.lora_A, a=math.sqrt(5))\n",
    "        nn.init.zeros_(self.lora_B)\n",
    "\n",
    "        self.dropout = nn.Dropout(lora_dropout) if lora_dropout > 0 else nn.Identity()\n",
    "        self.bias = nn.Parameter(torch.zeros(out_features)) if bias else None\n",
    "\n",
    "    def forward(self, x):\n",
    "        base = F.linear(x, self.weight, self.bias)\n",
    "        lora = F.linear(F.linear(self.dropout(x), self.lora_A.T), self.lora_B)\n",
    "        return base + self.scaling * lora\n"
   ]
  },
  {
   "cell_type": "code",
   "execution_count": null,
   "id": "4ca20c7c-21a0-4a55-b95a-3e800387dc13",
   "metadata": {},
   "outputs": [],
   "source": []
  }
 ],
 "metadata": {
  "kernelspec": {
   "display_name": "Python (nlp_final)",
   "language": "python",
   "name": "nlp_final"
  },
  "language_info": {
   "codemirror_mode": {
    "name": "ipython",
    "version": 3
   },
   "file_extension": ".py",
   "mimetype": "text/x-python",
   "name": "python",
   "nbconvert_exporter": "python",
   "pygments_lexer": "ipython3",
   "version": "3.8.20"
  }
 },
 "nbformat": 4,
 "nbformat_minor": 5
}
